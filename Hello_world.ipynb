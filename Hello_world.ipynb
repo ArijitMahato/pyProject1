{
 "cells": [
  {
   "cell_type": "code",
   "execution_count": 3,
   "id": "a4ba9beb-e011-4279-8dda-bf7c2f385549",
   "metadata": {},
   "outputs": [
    {
     "name": "stdout",
     "output_type": "stream",
     "text": [
      "hello hello world\n"
     ]
    }
   ],
   "source": [
    "print(\"hello hello world\")"
   ]
  },
  {
   "cell_type": "code",
   "execution_count": 2,
   "id": "78e8b052-1776-497f-be93-820663b8071a",
   "metadata": {},
   "outputs": [
    {
     "name": "stdout",
     "output_type": "stream",
     "text": [
      "14\n"
     ]
    }
   ],
   "source": [
    "x=9\n",
    "y=5\n",
    "z=x+y\n",
    "print(z)"
   ]
  },
  {
   "cell_type": "code",
   "execution_count": null,
   "id": "6bc68de5-18f1-49d7-9da0-96dc75d91c67",
   "metadata": {},
   "outputs": [],
   "source": []
  },
  {
   "cell_type": "code",
   "execution_count": null,
   "id": "cbdf91d3-886f-416e-9018-7121db8fcb21",
   "metadata": {},
   "outputs": [],
   "source": []
  }
 ],
 "metadata": {
  "kernelspec": {
   "display_name": "Python 3 (ipykernel)",
   "language": "python",
   "name": "python3"
  },
  "language_info": {
   "codemirror_mode": {
    "name": "ipython",
    "version": 3
   },
   "file_extension": ".py",
   "mimetype": "text/x-python",
   "name": "python",
   "nbconvert_exporter": "python",
   "pygments_lexer": "ipython3",
   "version": "3.9.18"
  }
 },
 "nbformat": 4,
 "nbformat_minor": 5
}
